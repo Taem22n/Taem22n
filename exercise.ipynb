{
  "nbformat": 4,
  "nbformat_minor": 0,
  "metadata": {
    "colab": {
      "name": "exercise.ipynb",
      "provenance": [],
      "collapsed_sections": [],
      "authorship_tag": "ABX9TyPSVxQCQ1LMrAOJcbOTIWXK",
      "include_colab_link": true
    },
    "kernelspec": {
      "name": "python3",
      "display_name": "Python 3"
    },
    "language_info": {
      "name": "python"
    }
  },
  "cells": [
    {
      "cell_type": "markdown",
      "metadata": {
        "id": "view-in-github",
        "colab_type": "text"
      },
      "source": [
        "<a href=\"https://colab.research.google.com/github/Taem22n/Taem22n/blob/master/exercise.ipynb\" target=\"_parent\"><img src=\"https://colab.research.google.com/assets/colab-badge.svg\" alt=\"Open In Colab\"/></a>"
      ]
    },
    {
      "cell_type": "markdown",
      "metadata": {
        "id": "PIXmPMBbWHuI"
      },
      "source": [
        ""
      ]
    },
    {
      "cell_type": "code",
      "metadata": {
        "colab": {
          "base_uri": "https://localhost:8080/"
        },
        "id": "r2FzEAyWPlGL",
        "outputId": "b4f1e5de-6e7f-41e8-9bd3-bbe3fe2ce283"
      },
      "source": [
        "my='s'\n",
        "my= 1\n",
        "print(my)"
      ],
      "execution_count": null,
      "outputs": [
        {
          "output_type": "stream",
          "text": [
            "1\n"
          ],
          "name": "stdout"
        }
      ]
    },
    {
      "cell_type": "code",
      "metadata": {
        "colab": {
          "base_uri": "https://localhost:8080/"
        },
        "id": "BYQJ8Nc3WU3P",
        "outputId": "75953fc3-2fd2-4ad9-9677-18070d4455af"
      },
      "source": [
        "2<3>10"
      ],
      "execution_count": null,
      "outputs": [
        {
          "output_type": "execute_result",
          "data": {
            "text/plain": [
              "False"
            ]
          },
          "metadata": {
            "tags": []
          },
          "execution_count": 2
        }
      ]
    },
    {
      "cell_type": "code",
      "metadata": {
        "colab": {
          "base_uri": "https://localhost:8080/"
        },
        "id": "-LvUG-2eZAwK",
        "outputId": "2f68fad6-35c4-4f4f-805e-3fb237ef794d"
      },
      "source": [
        "my_str = \"Samsung galaxy note 10 so sexy but scratch\"\n",
        "for i in my_str.split():\n",
        "    if i[0] == 's' or i[0] == \"S\":\n",
        "        print(i)"
      ],
      "execution_count": null,
      "outputs": [
        {
          "output_type": "stream",
          "text": [
            "Samsung\n",
            "so\n",
            "sexy\n",
            "scratch\n"
          ],
          "name": "stdout"
        }
      ]
    },
    {
      "cell_type": "code",
      "metadata": {
        "colab": {
          "base_uri": "https://localhost:8080/"
        },
        "id": "EIzxdiQ7e7Gv",
        "outputId": "89ffb924-f01e-46c9-c4d6-43c79181eb48"
      },
      "source": [
        "[a for a in range(0,11,2)]"
      ],
      "execution_count": null,
      "outputs": [
        {
          "output_type": "execute_result",
          "data": {
            "text/plain": [
              "[0, 2, 4, 6, 8, 10]"
            ]
          },
          "metadata": {
            "tags": []
          },
          "execution_count": 6
        }
      ]
    },
    {
      "cell_type": "code",
      "metadata": {
        "colab": {
          "base_uri": "https://localhost:8080/"
        },
        "id": "0aMQqI2CfolT",
        "outputId": "03a5ce72-bc45-4776-f6f1-12bce828d9f9"
      },
      "source": [
        "[a for a in range(1,51) if a%3 ==0]"
      ],
      "execution_count": null,
      "outputs": [
        {
          "output_type": "execute_result",
          "data": {
            "text/plain": [
              "[3, 6, 9, 12, 15, 18, 21, 24, 27, 30, 33, 36, 39, 42, 45, 48]"
            ]
          },
          "metadata": {
            "tags": []
          },
          "execution_count": 7
        }
      ]
    },
    {
      "cell_type": "code",
      "metadata": {
        "colab": {
          "base_uri": "https://localhost:8080/"
        },
        "id": "G6NKwxfgikTN",
        "outputId": "b3bc6360-82b7-4072-e781-f4040c8dfbae"
      },
      "source": [
        "mystring = \"adsfadfadfasdfadfadfaa\"\n",
        "for i in mystring.split():\n",
        "    if len(i)%2 == 0 :\n",
        "        print(i+'is even')"
      ],
      "execution_count": null,
      "outputs": [
        {
          "output_type": "stream",
          "text": [
            "adsfadfadfasdfadfadfaais even\n"
          ],
          "name": "stdout"
        }
      ]
    },
    {
      "cell_type": "code",
      "metadata": {
        "colab": {
          "base_uri": "https://localhost:8080/"
        },
        "id": "_uOAKUsylxXa",
        "outputId": "8120dd77-bb74-42bd-afa3-095224002707"
      },
      "source": [
        "for num in range(1,101):\n",
        "    if num % 30 == 0:\n",
        "        print(\"bboo\")\n",
        "    elif num % 3 == 0:\n",
        "        print('clap')\n",
        "    elif num %10 == 0:\n",
        "        print('bbooshong')\n",
        "    else:\n",
        "        print(num)"
      ],
      "execution_count": null,
      "outputs": [
        {
          "output_type": "stream",
          "text": [
            "1\n",
            "2\n",
            "calp\n",
            "4\n",
            "5\n",
            "calp\n",
            "7\n",
            "8\n",
            "calp\n",
            "bbooshong\n",
            "11\n",
            "calp\n",
            "13\n",
            "14\n",
            "calp\n",
            "16\n",
            "17\n",
            "calp\n",
            "19\n",
            "bbooshong\n",
            "calp\n",
            "22\n",
            "23\n",
            "calp\n",
            "25\n",
            "26\n",
            "calp\n",
            "28\n",
            "29\n",
            "bboo\n",
            "31\n",
            "32\n",
            "calp\n",
            "34\n",
            "35\n",
            "calp\n",
            "37\n",
            "38\n",
            "calp\n",
            "bbooshong\n",
            "41\n",
            "calp\n",
            "43\n",
            "44\n",
            "calp\n",
            "46\n",
            "47\n",
            "calp\n",
            "49\n",
            "bbooshong\n",
            "calp\n",
            "52\n",
            "53\n",
            "calp\n",
            "55\n",
            "56\n",
            "calp\n",
            "58\n",
            "59\n",
            "bboo\n",
            "61\n",
            "62\n",
            "calp\n",
            "64\n",
            "65\n",
            "calp\n",
            "67\n",
            "68\n",
            "calp\n",
            "bbooshong\n",
            "71\n",
            "calp\n",
            "73\n",
            "74\n",
            "calp\n",
            "76\n",
            "77\n",
            "calp\n",
            "79\n",
            "bbooshong\n",
            "calp\n",
            "82\n",
            "83\n",
            "calp\n",
            "85\n",
            "86\n",
            "calp\n",
            "88\n",
            "89\n",
            "bboo\n",
            "91\n",
            "92\n",
            "calp\n",
            "94\n",
            "95\n",
            "calp\n",
            "97\n",
            "98\n",
            "calp\n",
            "bbooshong\n"
          ],
          "name": "stdout"
        }
      ]
    },
    {
      "cell_type": "code",
      "metadata": {
        "colab": {
          "base_uri": "https://localhost:8080/"
        },
        "id": "ghX3Dt_puabP",
        "outputId": "68d645e9-91ac-4e89-8bc0-f4264f36f092"
      },
      "source": [
        "mystring=\"dafdaff asdfasdfa asdfasdf\"\n",
        "[i[0] for i in mystring.split()]"
      ],
      "execution_count": null,
      "outputs": [
        {
          "output_type": "execute_result",
          "data": {
            "text/plain": [
              "['d', 'a', 'a']"
            ]
          },
          "metadata": {
            "tags": []
          },
          "execution_count": 16
        }
      ]
    },
    {
      "cell_type": "code",
      "metadata": {
        "colab": {
          "base_uri": "https://localhost:8080/"
        },
        "id": "hozcBjC7uzVQ",
        "outputId": "d1a3de91-ff73-483b-d26f-e4eb64593398"
      },
      "source": [
        "prime = []\n",
        "for num in range(2,101):\n",
        "    is_prime = True\n",
        "    for i in range(2,int(num**0.5)+1):\n",
        "        if num%i == 0:\n",
        "            is_prime = False\n",
        "            break\n",
        "        else:\n",
        "            i+=1\n",
        "    if is_prime == True:\n",
        "        prime.append(num)\n",
        "                       \n",
        "print(prime)        "
      ],
      "execution_count": null,
      "outputs": [
        {
          "output_type": "stream",
          "text": [
            "[2, 3, 5, 7, 11, 13, 17, 19, 23, 29, 31, 37, 41, 43, 47, 53, 59, 61, 67, 71, 73, 79, 83, 89, 97]\n"
          ],
          "name": "stdout"
        }
      ]
    },
    {
      "cell_type": "code",
      "metadata": {
        "colab": {
          "base_uri": "https://localhost:8080/"
        },
        "id": "NO3WhKHG0j0H",
        "outputId": "b3f53253-c0da-4948-af12-dbc0c5758cfc"
      },
      "source": [
        "prime = [] \n",
        "for num in range(2,101):\n",
        "    is_prime = True\n",
        "    for i in range(2,int(num**0.5)+1):\n",
        "        if num%i == 0:\n",
        "            is_prime = False\n",
        "            break\n",
        "        \n",
        "        else:\n",
        "            i+=1\n",
        "    if is_prime == True:\n",
        "        prime.append(num)\n",
        "print(prime)"
      ],
      "execution_count": null,
      "outputs": [
        {
          "output_type": "stream",
          "text": [
            "[2, 3, 5, 7, 11, 13, 17, 19, 23, 29, 31, 37, 41, 43, 47, 53, 59, 61, 67, 71, 73, 79, 83, 89, 97]\n"
          ],
          "name": "stdout"
        }
      ]
    },
    {
      "cell_type": "code",
      "metadata": {
        "colab": {
          "base_uri": "https://localhost:8080/"
        },
        "id": "UspKWBsoBQoa",
        "outputId": "a9704cc9-8cbb-492d-dce2-e3ec60ea44a9"
      },
      "source": [
        "prime_list = list()\n",
        "for num in range(2,101):\n",
        "    i=2\n",
        "    is_num_prime=True\n",
        "    while i<int(num**0.5)+1:\n",
        "        if num%i==0:\n",
        "            is_num_prime=False\n",
        "            break\n",
        "        else:\n",
        "            i+=1\n",
        "    if is_num_prime:\n",
        "        prime_list.append(num)\n",
        "print(prime_list)\n"
      ],
      "execution_count": null,
      "outputs": [
        {
          "output_type": "stream",
          "text": [
            "[2, 3, 5, 7, 11, 13, 17, 19, 23, 29, 31, 37, 41, 43, 47, 53, 59, 61, 67, 71, 73, 79, 83, 89, 97]\n"
          ],
          "name": "stdout"
        }
      ]
    },
    {
      "cell_type": "code",
      "metadata": {
        "colab": {
          "base_uri": "https://localhost:8080/"
        },
        "id": "s-jXh9iw49st",
        "outputId": "1bdbd227-900f-44e4-c751-e55e6149d24b"
      },
      "source": [
        "num = int(input())\n",
        "prime = True\n",
        "for i in range(2,int(num**0.5)+1):\n",
        "    if num % i == 0:\n",
        "        prime = False\n",
        "        break\n",
        "\n",
        "print(prime)"
      ],
      "execution_count": null,
      "outputs": [
        {
          "output_type": "stream",
          "text": [
            "8\n",
            "False\n"
          ],
          "name": "stdout"
        }
      ]
    },
    {
      "cell_type": "code",
      "metadata": {
        "colab": {
          "base_uri": "https://localhost:8080/"
        },
        "id": "92SjzSXE_PeK",
        "outputId": "8d04d917-d7bd-44c3-f9dc-53b7d6a388f7"
      },
      "source": [
        "num  = int(input())\n",
        "prime = True\n",
        "i = 2\n",
        "while i < int(num**0.5)+1:\n",
        "    if num%1 == 0:\n",
        "        prime = False\n",
        "        break\n",
        "    else:\n",
        "        i+1\n",
        "print(prime)"
      ],
      "execution_count": null,
      "outputs": [
        {
          "output_type": "stream",
          "text": [
            "4\n",
            "False\n"
          ],
          "name": "stdout"
        }
      ]
    },
    {
      "cell_type": "code",
      "metadata": {
        "colab": {
          "base_uri": "https://localhost:8080/",
          "height": 35
        },
        "id": "Ok5YC5im_ULh",
        "outputId": "59aacfa2-eef6-484e-ca2f-48ed97286749"
      },
      "source": [
        "def vowelboy(word):\n",
        "    first_ind= word[0]\n",
        "    if first_ind in 'aeiuo':\n",
        "        return word + \"boy\"\n",
        "    else:\n",
        "        return word[1:]+word[0]+'girl'\n",
        "\n",
        "vowelboy(\"av\")"
      ],
      "execution_count": null,
      "outputs": [
        {
          "output_type": "execute_result",
          "data": {
            "application/vnd.google.colaboratory.intrinsic+json": {
              "type": "string"
            },
            "text/plain": [
              "'avboy'"
            ]
          },
          "metadata": {
            "tags": []
          },
          "execution_count": 43
        }
      ]
    },
    {
      "cell_type": "code",
      "metadata": {
        "id": "NjNxYZXv_ssr"
      },
      "source": [
        "def myfunc():\n",
        "    print(\"hello world\")"
      ],
      "execution_count": null,
      "outputs": []
    },
    {
      "cell_type": "code",
      "metadata": {
        "colab": {
          "base_uri": "https://localhost:8080/"
        },
        "id": "Oq9qa9FbM9kI",
        "outputId": "aeff6f94-119b-44fa-a82f-20f90a90acc2"
      },
      "source": [
        "myfunc()"
      ],
      "execution_count": null,
      "outputs": [
        {
          "output_type": "stream",
          "text": [
            "hello world\n"
          ],
          "name": "stdout"
        }
      ]
    },
    {
      "cell_type": "code",
      "metadata": {
        "colab": {
          "base_uri": "https://localhost:8080/",
          "height": 35
        },
        "id": "NIsXjjIfNAlz",
        "outputId": "0ec45127-ff4d-429f-9a28-14ac932cd68d"
      },
      "source": [
        "def myfunc(a):\n",
        "    if  a == True:\n",
        "        return \"Hello\"\n",
        "    else:\n",
        "        return \"GB\"\n",
        "\n",
        "myfunc(1==1)"
      ],
      "execution_count": null,
      "outputs": [
        {
          "output_type": "execute_result",
          "data": {
            "application/vnd.google.colaboratory.intrinsic+json": {
              "type": "string"
            },
            "text/plain": [
              "'Hello'"
            ]
          },
          "metadata": {
            "tags": []
          },
          "execution_count": 49
        }
      ]
    },
    {
      "cell_type": "code",
      "metadata": {
        "colab": {
          "base_uri": "https://localhost:8080/"
        },
        "id": "CvS9Gc6-T96h",
        "outputId": "d1268d4f-88cc-4f43-9e51-52bd102beae6"
      },
      "source": [
        "def myfunc(x,y,z):\n",
        "    if z == True:\n",
        "        return x\n",
        "    elif z == False:\n",
        "        return y\n",
        "myfunc(1,2,1==1)"
      ],
      "execution_count": null,
      "outputs": [
        {
          "output_type": "execute_result",
          "data": {
            "text/plain": [
              "1"
            ]
          },
          "metadata": {
            "tags": []
          },
          "execution_count": 52
        }
      ]
    },
    {
      "cell_type": "code",
      "metadata": {
        "id": "1FDHsiOuVRdK"
      },
      "source": [
        "def myfunc(x,y):\n",
        "    return x + y"
      ],
      "execution_count": null,
      "outputs": []
    },
    {
      "cell_type": "code",
      "metadata": {
        "colab": {
          "base_uri": "https://localhost:8080/",
          "height": 35
        },
        "id": "cPaPHLi2W_TN",
        "outputId": "7c3891b8-f750-44ff-9bac-95e85762c562"
      },
      "source": [
        "myfunc(\"a\",\"b\")"
      ],
      "execution_count": null,
      "outputs": [
        {
          "output_type": "execute_result",
          "data": {
            "application/vnd.google.colaboratory.intrinsic+json": {
              "type": "string"
            },
            "text/plain": [
              "'ab'"
            ]
          },
          "metadata": {
            "tags": []
          },
          "execution_count": 54
        }
      ]
    },
    {
      "cell_type": "code",
      "metadata": {
        "colab": {
          "base_uri": "https://localhost:8080/"
        },
        "id": "HjyTeHTKXCNs",
        "outputId": "4857f2e1-3928-49fe-c55d-d14cd79b4eea"
      },
      "source": [
        "def myfunc(a):\n",
        "    if a % 2 == 0:\n",
        "        return True\n",
        "    else:\n",
        "        return False\n",
        "myfunc(4)"
      ],
      "execution_count": null,
      "outputs": [
        {
          "output_type": "execute_result",
          "data": {
            "text/plain": [
              "True"
            ]
          },
          "metadata": {
            "tags": []
          },
          "execution_count": 56
        }
      ]
    },
    {
      "cell_type": "code",
      "metadata": {
        "id": "2sHh-w93XUpo"
      },
      "source": [
        "def f(x,y):\n",
        "    if x > y:\n",
        "        return True\n",
        "    else:\n",
        "        return False"
      ],
      "execution_count": null,
      "outputs": []
    },
    {
      "cell_type": "code",
      "metadata": {
        "colab": {
          "base_uri": "https://localhost:8080/",
          "height": 35
        },
        "id": "XGmXwxTEYh6l",
        "outputId": "4858b52b-74f8-44c2-801b-8e22bc0000ef"
      },
      "source": [
        "def evenupper(a):\n",
        "    b = ''\n",
        "    for i,j in enumerate(a):\n",
        "        if i % 2 == 0:\n",
        "            b += j.lower()\n",
        "        else:\n",
        "            b += j.upper()\n",
        "    return b\n",
        "evenupper(\"avavavav\")"
      ],
      "execution_count": null,
      "outputs": [
        {
          "output_type": "execute_result",
          "data": {
            "application/vnd.google.colaboratory.intrinsic+json": {
              "type": "string"
            },
            "text/plain": [
              "'aVaVaVaV'"
            ]
          },
          "metadata": {
            "tags": []
          },
          "execution_count": 65
        }
      ]
    },
    {
      "cell_type": "code",
      "metadata": {
        "colab": {
          "base_uri": "https://localhost:8080/"
        },
        "id": "dqgGXZOadLpR",
        "outputId": "6d8d268c-34bf-4b5a-aada-d34ba469600d"
      },
      "source": [
        "def next_thr(a):\n",
        "    for i in range(0,len(a)-1):\n",
        "        if a[i] == a[i+1] == 3:\n",
        "            return True\n",
        "    return False\n",
        "next_thr([1,2,3,3,4])"
      ],
      "execution_count": null,
      "outputs": [
        {
          "output_type": "execute_result",
          "data": {
            "text/plain": [
              "True"
            ]
          },
          "metadata": {
            "tags": []
          },
          "execution_count": 67
        }
      ]
    },
    {
      "cell_type": "code",
      "metadata": {
        "colab": {
          "base_uri": "https://localhost:8080/"
        },
        "id": "yhgVzUzwdPJ6",
        "outputId": "4fa021e5-0ad7-43c7-b742-0ce991dc243e"
      },
      "source": [
        "def next_thr(a):\n",
        "    for i in range(0,len(a)-1):\n",
        "        if a[i:i+2] == [3,3]:\n",
        "            return True\n",
        "    return False\n",
        "next_thr([1,2,3,3,4])   "
      ],
      "execution_count": null,
      "outputs": [
        {
          "output_type": "execute_result",
          "data": {
            "text/plain": [
              "True"
            ]
          },
          "metadata": {
            "tags": []
          },
          "execution_count": 69
        }
      ]
    },
    {
      "cell_type": "code",
      "metadata": {
        "colab": {
          "base_uri": "https://localhost:8080/",
          "height": 35
        },
        "id": "Eu5w6clWhBBd",
        "outputId": "a5a1d2e5-d26d-4b55-efa6-52d4180ed3da"
      },
      "source": [
        "def trip(a):\n",
        "    result = ' '\n",
        "    for i in a:\n",
        "        result += i*3\n",
        "    return result\n",
        "trip('av') "
      ],
      "execution_count": null,
      "outputs": [
        {
          "output_type": "execute_result",
          "data": {
            "application/vnd.google.colaboratory.intrinsic+json": {
              "type": "string"
            },
            "text/plain": [
              "' aaavvv'"
            ]
          },
          "metadata": {
            "tags": []
          },
          "execution_count": 70
        }
      ]
    },
    {
      "cell_type": "code",
      "metadata": {
        "colab": {
          "base_uri": "https://localhost:8080/"
        },
        "id": "NLyWVE9XihX2",
        "outputId": "cc340da6-4270-43ba-bd1a-7bb574c1d1f9"
      },
      "source": [
        "def bkjk(x,y,z):\n",
        "    if sum([x,y,z]) <= 21:\n",
        "        return sum([x,y,z])\n",
        "    elif (sum([x,y,z]) > 21 and (11 in [x,y,z])):\n",
        "        return sum([x,y,z])-10\n",
        "    else:\n",
        "        return \"Bust\"\n",
        "print(bkjk(1,2,3) )\n",
        "print(bkjk(11,3,4))\n",
        "print(bkjk(11,3,8))\n",
        "print(bkjk(9,9,9))"
      ],
      "execution_count": null,
      "outputs": [
        {
          "output_type": "stream",
          "text": [
            "6\n",
            "18\n",
            "12\n",
            "Bust\n"
          ],
          "name": "stdout"
        }
      ]
    },
    {
      "cell_type": "markdown",
      "metadata": {
        "id": "R5jsrSTrrJEZ"
      },
      "source": [
        ""
      ]
    },
    {
      "cell_type": "code",
      "metadata": {
        "colab": {
          "base_uri": "https://localhost:8080/"
        },
        "id": "yYIgknCYmLG5",
        "outputId": "0c38c7a0-8a74-40e2-9f5f-1d73c71aab24"
      },
      "source": [
        "\n",
        "my_list = [1,2,3,6,7,8,9,1]\n",
        "total = 0\n",
        "add = True\n",
        "\n",
        "for num in my_list:\n",
        "    while add:\n",
        "        if num != 6:\n",
        "            total += num\n",
        "            break\n",
        "        else:\n",
        "            add = False\n",
        "    while not add:\n",
        "        if num != 9:\n",
        "            break\n",
        "        else:\n",
        "            add = True\n",
        "            break\n",
        "print(total)\n"
      ],
      "execution_count": null,
      "outputs": [
        {
          "output_type": "stream",
          "text": [
            "7\n"
          ],
          "name": "stdout"
        }
      ]
    },
    {
      "cell_type": "code",
      "metadata": {
        "id": "4V7tyD2Jp21m"
      },
      "source": [
        "def sixnine(my_list):\n",
        "    total = 0\n",
        "    add = True\n",
        "\n",
        "    for num in my_list:\n",
        "        while add:\n",
        "            if num != 6:\n",
        "                total += num\n",
        "                break\n",
        "            else:\n",
        "                add = False\n",
        "        while not add:\n",
        "            if num != 9:\n",
        "                break\n",
        "            else:\n",
        "                add = True\n",
        "                break\n",
        "    return total\n",
        "\n"
      ],
      "execution_count": null,
      "outputs": []
    },
    {
      "cell_type": "code",
      "metadata": {
        "id": "f5Eoc6dyrcQ2"
      },
      "source": [
        "def game007(my_list):\n",
        "    sol = [0,0,7]\n",
        "    for num in my_list:\n",
        "        if num == sol[0]:\n",
        "            sol.pop(0)\n",
        "            if len(sol) == 0:\n",
        "                break\n",
        "\n",
        "    return len(sol) == 0"
      ],
      "execution_count": null,
      "outputs": []
    },
    {
      "cell_type": "code",
      "metadata": {
        "id": "6_otZpGjybzd",
        "colab": {
          "base_uri": "https://localhost:8080/",
          "height": 35
        },
        "outputId": "575f687b-e42c-43b5-83ea-50bcab9965da"
      },
      "source": [
        "def black_jack(x,y,z):\n",
        "    if sum([x,y,z]) <= 21:\n",
        "        return sum([x,y,z])\n",
        "    elif (sum([x,y,z])-10 <= 21 and (11 in [x,y,z])):\n",
        "        return sum([x,y,z])-10\n",
        "    else:\n",
        "        return \"BUST\"\n",
        "\n",
        "black_jack(10,2,10)"
      ],
      "execution_count": 7,
      "outputs": [
        {
          "output_type": "execute_result",
          "data": {
            "application/vnd.google.colaboratory.intrinsic+json": {
              "type": "string"
            },
            "text/plain": [
              "'BUST'"
            ]
          },
          "metadata": {
            "tags": []
          },
          "execution_count": 7
        }
      ]
    },
    {
      "cell_type": "code",
      "metadata": {
        "colab": {
          "base_uri": "https://localhost:8080/"
        },
        "id": "SRteV9VlwYWZ",
        "outputId": "66fdddbe-2559-440b-c495-bc941ca873bf"
      },
      "source": [
        "def zzs(l):\n",
        "    \n",
        "    target = [0,0,7]\n",
        "    for i in l:\n",
        "        result = False\n",
        "        if i == target[0]:\n",
        "            \n",
        "            target.pop(0)\n",
        "            if len(target) == 0:\n",
        "                result = True\n",
        "                break\n",
        "    return result\n",
        "\n",
        "zzs([0,0,7])"
      ],
      "execution_count": 18,
      "outputs": [
        {
          "output_type": "execute_result",
          "data": {
            "text/plain": [
              "True"
            ]
          },
          "metadata": {
            "tags": []
          },
          "execution_count": 18
        }
      ]
    },
    {
      "cell_type": "code",
      "metadata": {
        "colab": {
          "base_uri": "https://localhost:8080/"
        },
        "id": "bkc4Ypb42uen",
        "outputId": "ec31a201-10c6-4eed-80a5-8ab1afc5db77"
      },
      "source": [
        "def primes(n):\n",
        "    if n < 2:\n",
        "        print(0)\n",
        "    total = [2]\n",
        "    i = 3\n",
        "    while i <= n:\n",
        "        is_prime = True\n",
        "        for j in range(2,int(i**0.5)+2):\n",
        "            if i%j == 0:\n",
        "                is_prime = False\n",
        "                break\n",
        "            else:\n",
        "                pass\n",
        "        if is_prime:\n",
        "            total.append(i)\n",
        "        i += 2\n",
        "    return len(total)\n",
        "\n",
        "primes(9)"
      ],
      "execution_count": 80,
      "outputs": [
        {
          "output_type": "execute_result",
          "data": {
            "text/plain": [
              "4"
            ]
          },
          "metadata": {
            "tags": []
          },
          "execution_count": 80
        }
      ]
    },
    {
      "cell_type": "markdown",
      "metadata": {
        "id": "0d-wrxm2cBuY"
      },
      "source": [
        ""
      ]
    },
    {
      "cell_type": "code",
      "metadata": {
        "colab": {
          "base_uri": "https://localhost:8080/"
        },
        "id": "5cqNBl4jYRjE",
        "outputId": "41043f03-38cc-4377-a423-0e5687064eb6"
      },
      "source": [
        "l = [3, 9, 7, 6, 11]\n",
        "\n",
        "sum_state = \"Add\"\n",
        "# sum_state = \"Ignore\"\n",
        "s=0\n",
        "for x in l:\n",
        "    while sum_state == \"Add\":\n",
        "        if x == 6:\n",
        "            sum_state = \"Ignore\"\n",
        "        else:\n",
        "            s += x\n",
        "            break\n",
        "    while sum_state == \"Ignore\":\n",
        "        if x == 9:\n",
        "            sum_state = \"Add\"\n",
        "        else:\n",
        "            break\n",
        "    print(f\"sum_state is {sum_state}\")\n",
        "    print(f\"x is {x}\")\n",
        "\n",
        "\n",
        "print(s)"
      ],
      "execution_count": 86,
      "outputs": [
        {
          "output_type": "stream",
          "text": [
            "sum_state is Add\n",
            "x is 3\n",
            "sum_state is Add\n",
            "x is 9\n",
            "sum_state is Add\n",
            "x is 7\n",
            "sum_state is Ignore\n",
            "x is 6\n",
            "sum_state is Ignore\n",
            "x is 11\n",
            "19\n"
          ],
          "name": "stdout"
        }
      ]
    },
    {
      "cell_type": "code",
      "metadata": {
        "id": "TCz9ajHmgN7u"
      },
      "source": [
        ""
      ],
      "execution_count": null,
      "outputs": []
    },
    {
      "cell_type": "code",
      "metadata": {
        "colab": {
          "base_uri": "https://localhost:8080/"
        },
        "id": "TDoBfOKHdFMf",
        "outputId": "1e2d2d73-b557-4d97-fe78-2d448a3491bf"
      },
      "source": [
        "def sum_state(l):\n",
        "    sum_state = True\n",
        "    s=0\n",
        "    for x in l:\n",
        "        while sum_state:\n",
        "            if x == 6:\n",
        "                sum_state = False\n",
        "            else:\n",
        "                s += x\n",
        "                break\n",
        "        while not sum_state:\n",
        "            if x == 9:\n",
        "                sum_state = True\n",
        "            else:\n",
        "                break\n",
        "    return s\n",
        "\n",
        "sum_state([1,1,1,9,1,6])"
      ],
      "execution_count": 91,
      "outputs": [
        {
          "output_type": "execute_result",
          "data": {
            "text/plain": [
              "13"
            ]
          },
          "metadata": {
            "tags": []
          },
          "execution_count": 91
        }
      ]
    },
    {
      "cell_type": "code",
      "metadata": {
        "id": "ZsE5NhXyghkl"
      },
      "source": [
        ""
      ],
      "execution_count": null,
      "outputs": []
    }
  ]
}